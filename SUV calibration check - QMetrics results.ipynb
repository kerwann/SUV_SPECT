{
 "cells": [
  {
   "cell_type": "markdown",
   "metadata": {},
   "source": [
    "\\noindent __Erwann Rault__  \n",
    "_Centre Oscar Lambret (Lille)_"
   ]
  },
  {
   "cell_type": "code",
   "execution_count": 1,
   "metadata": {
    "code_folding": [
     0
    ],
    "collapsed": false
   },
   "outputs": [],
   "source": [
    "# DRAW MATPLOTLIB IN NOTEBOOK #\n",
    "\n",
    "%matplotlib inline\n",
    "# %matplotlib notebook\n"
   ]
  },
  {
   "cell_type": "code",
   "execution_count": 2,
   "metadata": {
    "code_folding": [
     0
    ],
    "collapsed": false
   },
   "outputs": [],
   "source": [
    "# LIBRARIES #\n",
    "\n",
    "import numpy as np\n",
    "import dicom as dcm\n",
    "import matplotlib.pyplot as plt\n",
    "import math\n",
    "import time\n",
    "import datetime\n",
    "\n",
    "from scipy import ndimage\n",
    "from ipywidgets import *\n",
    "\n",
    "from IPython import display\n",
    "from mpl_toolkits.axes_grid1 import make_axes_locatable\n",
    "from matplotlib import gridspec\n",
    "from os.path import basename\n",
    "\n",
    "import warnings\n",
    "warnings.filterwarnings('ignore')\n"
   ]
  },
  {
   "cell_type": "code",
   "execution_count": 3,
   "metadata": {
    "code_folding": [
     0
    ],
    "collapsed": true
   },
   "outputs": [],
   "source": [
    "# LAYOUT DEFINITIONS #\n",
    "\n",
    "box_layout_std = Layout(display='flex',\n",
    "                    flex_flow='row wrap',\n",
    "                    justify_content='flex-start',\n",
    "                    width='100%')\n",
    "\n",
    "box_layout_right = Layout(display='flex',\n",
    "                    flex_flow='row wrap',\n",
    "                    justify_content='flex-end',\n",
    "                    border='solid 0.5px #EEE',\n",
    "                    width='100%')\n"
   ]
  },
  {
   "cell_type": "code",
   "execution_count": 195,
   "metadata": {
    "code_folding": [],
    "collapsed": false
   },
   "outputs": [],
   "source": [
    "# INPUT VARIABLES #\n",
    "\n",
    "FILEPATH = 'X:/Med Nuc/etudes/SUVcalFactor_D670/Tc99m/tomo/fantomeSUV/2017.05.03/tomo2/qmetrix transaxials/Tomo2_EM_IRACSCRR001_DS.dcm'\n",
    "\n",
    "Ainj = 185.74 #MBq\n",
    "Tinj = datetime.datetime(2017,5,3,15,18,0)\n",
    "\n",
    "Ares = 2.6 #MBq\n",
    "Tres = datetime.datetime(2017,5,3,15,21,0)\n",
    "\n",
    "# CSTES #\n",
    "T1DEMI_Tc99m = 6.0058\n",
    "T1DEMI_I123 = 13.22\n",
    "T1DEMI_I131 = 192.48\n",
    "\n",
    "NB_DETECTORS = 2       # valeur fausse dans dicom header (reconstruction?)\n",
    "SCAN_ARC = 360         # valeur fausse dans dicom header\n",
    "NB_ANGULAR_STEPS = 60  # valeur fausse dans dicom header\n",
    "ANGULAR_STEP = 6       # valeur fausse dans dicom header\n",
    "\n",
    "ISOTOPE_NAME = \"Tc99m\"\n",
    "T1DEMI = T1DEMI_Tc99m # hours, half life from the isotope\n",
    "ROI_MARGIN = -5 #pix\n",
    "THRESHOLD_PHANT = 0.2\n",
    "\n",
    "VOLUME_PHANT = 5640 #5640 # ml\n",
    "\n",
    "CONV_FACTOR = 85.5 # cps/MBq"
   ]
  },
  {
   "cell_type": "markdown",
   "metadata": {},
   "source": [
    "# Acquisition information"
   ]
  },
  {
   "cell_type": "code",
   "execution_count": 196,
   "metadata": {
    "code_folding": [
     0
    ],
    "collapsed": true
   },
   "outputs": [],
   "source": [
    "# CONVERT DICOM TIME INFO TO DATETIME #\n",
    "\n",
    "def convertToDatetime(date, time):\n",
    "    year = int(int(date)/10000)\n",
    "    month = int(int(date)/100-year*100)\n",
    "    day = int(int(date)-year*10000-month*100)\n",
    "    hour = int(float(time)/10000)\n",
    "    minute = int(float(time)/100-hour*100)\n",
    "    seconds =  int(float(time)-minute*100-hour*10000)\n",
    "    return datetime.datetime(year, month, day, hour, minute, seconds)"
   ]
  },
  {
   "cell_type": "code",
   "execution_count": 197,
   "metadata": {
    "code_folding": [
     0
    ],
    "collapsed": true
   },
   "outputs": [],
   "source": [
    "# CONVERT TO SUV IMG #\n",
    "\n",
    "def convertToSUV(img, factor, scanduration, pixdimension, injectedActivity, phantomvolume):\n",
    "    # a: factor to convert pixel values to MBq/ml\n",
    "    a = factor*scanduration*(pixdimension[0]*pixdimension[1]*pixdimension[2]/1000) \n",
    "    \n",
    "    # b: injected activity divided by phantom volume:\n",
    "    b = injectedActivity/phantomvolume\n",
    "    newimg = img/a/b\n",
    "\n",
    "    return newimg"
   ]
  },
  {
   "cell_type": "code",
   "execution_count": 198,
   "metadata": {
    "code_folding": [
     0
    ],
    "collapsed": false,
    "scrolled": false
   },
   "outputs": [
    {
     "name": "stdout",
     "output_type": "stream",
     "text": [
      "Patient name:  zzzQuantifTest^^^^\n",
      "Patient ID:  fantome SUV\n",
      "File name: Tomo2_EM_IRACSCRR001_DS.dcm\n",
      " \n",
      "Injected Isotope:  Tc99m (half life: 6.0058 h)\n",
      "Injected activity:  185.74  MBq @  2017-05-03 15:18:00\n",
      "Residual activity:  2.6  MBq @  2017-05-03 15:21:00\n",
      " \n",
      "Scan date and time:  2017-05-03 16:31:41\n",
      "Scan duration:  900 s\n",
      "Nb of energy windows: 1\n",
      "Nb of detectors: 2\n",
      "Image size: 128 x 128 x 128\n",
      "Pixel size ['4.41816', '4.418156', '4.418156']\n",
      "Rescale slope: 1\n",
      "Rescale intercept: 0\n",
      "Rotation of detectors:  360\n",
      "Angular step:  6 deg\n",
      "Nb of steps:  60\n",
      "Step duration:  15 s\n",
      "reconstruction corrections: ATTN\n",
      " \n",
      "Camera:  GE MEDICAL SYSTEMS, NUCLEAR\n",
      "         XELERIS2\n",
      "Collimator name:  LEHR\n",
      "Collimator type:  PARA\n",
      "Zoom factor:  ['1.000000', '1.000000']\n",
      "\n",
      "Ainj: 161.194919761\n",
      "Ares: 2.26947507744\n"
     ]
    }
   ],
   "source": [
    "# READ AND GET RELEVANT INFORMATION FROM DICOM FILE #\n",
    "\n",
    "# reads the dicom file:\n",
    "ds = dcm.read_file(FILEPATH)\n",
    "\n",
    "# gets info:\n",
    "patient_name = ds.PatientName\n",
    "\n",
    "study_date = ds.StudyDate\n",
    "scan_time = ds[0x0008,0x0032].value\n",
    "acq_datetime = convertToDatetime(study_date,scan_time)\n",
    "\n",
    "try:\n",
    "    rescaleIntercept = ds[0x0028,0x1052].value\n",
    "    rescaleSlope = ds[0x0028,0x1053].value\n",
    "except KeyError:\n",
    "    rescaleIntercept = 0\n",
    "    rescaleSlope = 1\n",
    "    \n",
    "nb_slices = ds[0x0054,0x0081].value\n",
    "nb_pixel_x = ds[0x0028,0x0011].value\n",
    "nb_pixel_y = ds[0x0028,0x0010].value\n",
    "nb_energy_win = ds.NumberOfEnergyWindows\n",
    "pixSize = [ds[0x0018,0x0050].value, (ds[0x0028,0x0030].value)[1], (ds[0x0028,0x0030].value)[0]]\n",
    "frame_duration = int(ds[0x0054,0x0052][0][0x0018,0x1242].value/1000)\n",
    "recons_corrections = ds[0x0028,0x0051].value\n",
    "\n",
    "# disps info:\n",
    "print \"Patient name: \", patient_name\n",
    "print \"Patient ID: \", ds[0x0020,0x0010].value\n",
    "print \"File name:\", basename(FILEPATH)\n",
    "print \" \"\n",
    "print \"Injected Isotope: \", ISOTOPE_NAME, \"(half life:\", T1DEMI,\"h)\"\n",
    "print \"Injected activity: \", Ainj, \" MBq @ \", Tinj\n",
    "print \"Residual activity: \", Ares, \" MBq @ \", Tres\n",
    "print \" \"\n",
    "print \"Scan date and time: \", acq_datetime\n",
    "print \"Scan duration: \", frame_duration*NB_ANGULAR_STEPS, \"s\"\n",
    "print \"Nb of energy windows: \" + str(nb_energy_win)\n",
    "print \"Nb of detectors: \" + str(NB_DETECTORS)\n",
    "print \"Image size: {0} x {1} x {2}\" .\\\n",
    "                format(nb_pixel_x, nb_pixel_y, nb_slices)\n",
    "print \"Pixel size\", pixSize\n",
    "print \"Rescale slope:\", rescaleSlope\n",
    "print \"Rescale intercept:\", rescaleIntercept\n",
    "print \"Rotation of detectors: \", SCAN_ARC\n",
    "print \"Angular step: \", ANGULAR_STEP, \"deg\"\n",
    "print \"Nb of steps: \", NB_ANGULAR_STEPS\n",
    "print \"Step duration: \", frame_duration, \"s\"\n",
    "print \"reconstruction corrections:\", recons_corrections\n",
    "print \" \"\n",
    "print \"Camera: \", ds[0x0008,0x0070].value\n",
    "print \"        \", ds[0x0008,0x1010].value\n",
    "print \"Collimator name: \", ds[0x0054,0x0022][0][0x0018,0x1180].value\n",
    "print \"Collimator type: \", ds[0x0054,0x0022][0][0x0018,0x1181].value\n",
    "print \"Zoom factor: \", ds[0x0054,0x0022][0][0x0028,0x0031].value\n",
    "\n",
    "# reads the image and converts it to SUV\n",
    "pixarray = ds.pixel_array[:,:,:].astype(np.float32) * rescaleSlope + rescaleIntercept\n",
    "\n",
    "t = (acq_datetime - Tinj).total_seconds()/3600.0\n",
    "ainj = Ainj * math.exp(-t*math.log(2)/T1DEMI)\n",
    "t = (acq_datetime - Tres).total_seconds()/3600.0\n",
    "ares = Ares * math.exp(-t*math.log(2)/T1DEMI)\n",
    "\n",
    "print '\\nAinj:', ainj\n",
    "print 'Ares:', ares\n",
    "m_img = convertToSUV(pixarray, CONV_FACTOR, frame_duration*NB_ANGULAR_STEPS, \n",
    "                     pixSize, ainj-ares, VOLUME_PHANT)\n"
   ]
  },
  {
   "cell_type": "markdown",
   "metadata": {},
   "source": [
    "# SUV calibration factor"
   ]
  },
  {
   "cell_type": "code",
   "execution_count": 199,
   "metadata": {
    "code_folding": [
     0
    ],
    "collapsed": true
   },
   "outputs": [],
   "source": [
    "# FINDS THE SUV PHANTOM IN THE IMAGE #\n",
    "\n",
    "# function to find the phantom dimension and center in the image\n",
    "def findPhantom(img, dimx, dimy, dimz, tp):\n",
    "    com = ndimage.measurements.center_of_mass(img)\n",
    "    #com = ndimage.measurements.maximum_position(img)\n",
    "\n",
    "    maxx = ndimage.measurements.maximum(img[com[0],com[1],:])\n",
    "    x1 = 0\n",
    "    while (img[com[0],com[1],x1]<maxx*tp):\n",
    "        x1 = x1+1\n",
    "    x2 = dimx-1\n",
    "    while (img[com[0],com[1],x2]<maxx*tp):\n",
    "        x2 = x2-1\n",
    "    x1=x1-1\n",
    "    x2=x2+1\n",
    "    \n",
    "    maxy = ndimage.measurements.maximum(img[com[0],:,com[2]])\n",
    "    y1 = 0\n",
    "    while (img[com[0],y1,com[2]]<maxy*tp):\n",
    "        y1 = y1+1\n",
    "    y2 = dimy-1\n",
    "    while (img[com[0],y2,com[2]]<maxy*tp):\n",
    "        y2 = y2-1\n",
    "    y1=y1-1\n",
    "    y2=y2+1\n",
    "\n",
    "    maxz = ndimage.measurements.maximum(img[:,com[1],com[2]])\n",
    "    z1 = 0\n",
    "    while (img[z1,com[1],com[2]]<maxz*tp):\n",
    "        z1 = z1+1\n",
    "    z2 = dimz-1\n",
    "    while (img[z2,com[1],com[2]]<maxz*tp):\n",
    "        z2 = z2-1\n",
    "    z1=z1-1\n",
    "    z2=z2+1\n",
    "    \n",
    "    centerx = int(x1+(x2-x1)/2)\n",
    "    centery = int(y1+(y2-y1)/2)\n",
    "    centerz = int(z1+(z2-z1)/2)\n",
    "    \n",
    "    if ((y2-y1)>(x2-1)):\n",
    "        radius =(y2-y1)/2\n",
    "    else:\n",
    "        radius = (x2-x1)/2\n",
    "    length = z2-z1\n",
    "\n",
    "    return [centerx, centery, centerz, radius, length]\n"
   ]
  },
  {
   "cell_type": "code",
   "execution_count": 200,
   "metadata": {
    "code_folding": [
     0
    ],
    "collapsed": false
   },
   "outputs": [],
   "source": [
    "# FUNCTION TO GET THE STATS INSIDE THE VOI #\n",
    "\n",
    "def get_stats(img, dimx, dimy, dimz, centerx, centery, centerz, r, h):\n",
    "    l = []\n",
    "    for k in range(int(centerz-h/2), int(centerz+h/2)):\n",
    "        for j in range(0, dimy):\n",
    "            for i in range(0, dimx):\n",
    "                if (math.sqrt((i-centerx)*(i-centerx)+(j-centery)*(j-centery))<=r):\n",
    "                    l.append(img[k,j,i])\n",
    "                    #m_img[k,j,i] = 0\n",
    "\n",
    "    return np.amin(l), np.amax(l), np.mean(l), np.std(l)"
   ]
  },
  {
   "cell_type": "code",
   "execution_count": 201,
   "metadata": {
    "code_folding": [
     0
    ],
    "collapsed": false,
    "scrolled": false
   },
   "outputs": [
    {
     "name": "stdout",
     "output_type": "stream",
     "text": [
      "Results of SUV calculation:\n",
      "  - min. value:  0.6203 g/ml\n",
      "  - max. value:  1.5187 g/ml\n",
      "  - mean value:  1.0214 g/ml\n",
      "  - std deviation:  0.1135 g/ml( 11.11 %)\n"
     ]
    },
    {
     "data": {
      "image/png": "[encoded data removed]",
      "text/plain": [
       "<matplotlib.figure.Figure at 0xea17588>"
      ]
     },
     "metadata": {},
     "output_type": "display_data"
    }
   ],
   "source": [
    "# MAIN INTERFACE #\n",
    "\n",
    "# Displays SUV calculation results\n",
    "def dispResults():\n",
    "    mini, maxi, mean, std = get_stats(m_img, nb_pixel_x, nb_pixel_y, nb_slices,roi[0], \n",
    "                         roi[1], roi[2], roi[3]+ROI_MARGIN, roi[4]+(2*ROI_MARGIN))\n",
    "\n",
    "    print 'Results of SUV calculation:'\n",
    "    print '  - min. value: ', round(mini, 4), 'g/ml'\n",
    "    print '  - max. value: ', round(maxi, 4), 'g/ml'\n",
    "    print '  - mean value: ', round(mean, 4), 'g/ml'\n",
    "    print '  - std deviation: ', round(std, 4), 'g/ml(', round(std/mean*100,2),'%)'\n",
    "\n",
    "    \n",
    "# Draws circle centers\n",
    "def redrawCenters():\n",
    "    line1a[0].set_xdata([xslider.value-1,xslider.value+1])\n",
    "    line1a[0].set_ydata([zslider.value,zslider.value])\n",
    "    line1b[0].set_xdata([xslider.value,xslider.value])\n",
    "    line1b[0].set_ydata([zslider.value-1,zslider.value+1])\n",
    "    line2a[0].set_xdata([yslider.value-1,yslider.value+1])\n",
    "    line2a[0].set_ydata([zslider.value,zslider.value])\n",
    "    line2b[0].set_xdata([yslider.value,yslider.value])\n",
    "    line2b[0].set_ydata([zslider.value-1,zslider.value+1])\n",
    "    line3a[0].set_xdata([xslider.value-1,xslider.value+1])\n",
    "    line3a[0].set_ydata([yslider.value,yslider.value])\n",
    "    line3b[0].set_xdata([xslider.value,xslider.value])\n",
    "    line3b[0].set_ydata([yslider.value-1,yslider.value+1])\n",
    "        \n",
    "def refreshPlot(b):    \n",
    "    minv = minslider.value\n",
    "    maxv = maxslider.value\n",
    "    if (minv>maxv):\n",
    "        print \"Erreur: min > max\"\n",
    "    else:\n",
    "        im1.set_data(m_img[:,yslider.value,:])\n",
    "        im1.set_clim(vmin=minv, vmax=maxv)\n",
    "        im2.set_data(m_img[:,:,xslider.value])\n",
    "        im2.set_clim(vmin=minv, vmax=maxv)\n",
    "        im3.set_data(m_img[zslider.value,:,:])\n",
    "        im3.set_clim(vmin=minv, vmax=maxv)\n",
    "    redrawCenters()\n",
    "    display.clear_output(wait=True)\n",
    "    display.display(fig)\n",
    "    dispResults()\n",
    "  \n",
    "# Plot size\n",
    "plt.rcParams['figure.figsize'] = (15,9)\n",
    "\n",
    "# min, max of main image:\n",
    "_min, _max = np.amin(m_img), np.amax(m_img)\n",
    "\n",
    "# Ipywidgets:\n",
    "minslider  = FloatSlider(value=_min, min=_min, max=_max, \n",
    "                         step=(_max-_min)/100, description='min', width='40%')\n",
    "maxslider  = FloatSlider(value=_max, min=_min, max=_max*1.5, \n",
    "                         step=(_max-_min)/100, description='max', width='40%')\n",
    "\n",
    "xslider = IntSlider(value=int(nb_pixel_x/2), min=0, max=nb_pixel_x-1, \n",
    "                    step=1, description=\"x\",width='40%')\n",
    "yslider = IntSlider(value=int(nb_pixel_y/2), min=0, max=nb_pixel_y-1, \n",
    "                    step=1, description=\"y\",width='40%')\n",
    "zslider = IntSlider(value=int(nb_slices/2), min=0, max=nb_slices-1, \n",
    "                    step=1, description=\"z\",width='40%')\n",
    "\n",
    "refresh_button = Button(description=\"Refresh!\", width='30%') #, height='100px'\n",
    "refresh_button.on_click(refreshPlot)\n",
    "\n",
    "items1 = [\n",
    "    Label(value=\"Visualization window:\", width='90%'),\n",
    "    minslider,\n",
    "    maxslider,\n",
    "    Label(value=\". \", width='90%'),\n",
    "    Label(value=\"View slices\", width='90%'),\n",
    "    xslider,\n",
    "    yslider,\n",
    "    zslider,\n",
    "    Label(value=\". \", width='90%'),\n",
    " ]\n",
    "items2 = [\n",
    "    refresh_button,\n",
    "]\n",
    "\n",
    "box1 = Box(children=items1, layout=box_layout_std)\n",
    "box2 = Box(children=items2, layout=box_layout_right)\n",
    "display.display(box1)\n",
    "display.display(box2)\n",
    "\n",
    "# Plots the images:\n",
    "fig = plt.figure()\n",
    "gs = gridspec.GridSpec(2, 3)\n",
    "\n",
    "max_pos = ndimage.measurements.maximum_position(m_img)\n",
    "xslider.value = max_pos[2]\n",
    "yslider.value = max_pos[1]\n",
    "zslider.value = max_pos[0]\n",
    "\n",
    "ax1 = fig.add_subplot(gs[0,2])\n",
    "im1 = ax1.imshow(m_img[:,yslider.value,:], cmap=\"hot\", vmin = _min, vmax = _max)\n",
    "ax1.set_title('Coronal')\n",
    "ax1.axes.get_xaxis().set_visible(False)\n",
    "ax1.axes.get_yaxis().set_visible(False)\n",
    "ax1.axes.autoscale(False)\n",
    "\n",
    "ax2 = fig.add_subplot(gs[1,2])\n",
    "im2 = ax2.imshow(m_img[:,:,xslider.value], cmap=\"hot\", vmin = _min, vmax = _max)\n",
    "ax2.set_title('Sagittal')\n",
    "ax2.axes.get_xaxis().set_visible(False)\n",
    "ax2.axes.get_yaxis().set_visible(False)\n",
    "ax2.axes.autoscale(False)\n",
    "\n",
    "ax3 = fig.add_subplot(gs[:,:-1])\n",
    "im3 = ax3.imshow(m_img[zslider.value,:,:], cmap=\"hot\", vmin = _min, vmax = _max)\n",
    "ax3.set_title('Transverse')\n",
    "ax3.axes.get_xaxis().set_visible(False)\n",
    "ax3.axes.get_yaxis().set_visible(False)\n",
    "ax3.axes.autoscale(False)\n",
    "\n",
    "roi = findPhantom(m_img, nb_pixel_x, nb_pixel_y, nb_slices, THRESHOLD_PHANT)\n",
    "\n",
    "try:\n",
    "    divider3 = make_axes_locatable(ax3)\n",
    "    cax3 = divider3.append_axes(\"right\", size=\"5%\", pad=0.1)\n",
    "    plt.colorbar(im3, cax=cax3)\n",
    "    line1a = ax1.axes.plot([xslider.value-1,xslider.value+1], \n",
    "                  [zslider.value,zslider.value], \n",
    "                  color='blue', linestyle='-', linewidth=1)\n",
    "    line1b = ax1.axes.plot([xslider.value,xslider.value], \n",
    "                  [zslider.value-1,zslider.value+1], \n",
    "                  color='blue', linestyle='-', linewidth=1)\n",
    "    line2a = ax2.axes.plot([yslider.value-1,yslider.value+1], \n",
    "                  [zslider.value,zslider.value], \n",
    "                  color='blue', linestyle='-', linewidth=1)\n",
    "    line2b = ax2.axes.plot([yslider.value,yslider.value], \n",
    "                  [zslider.value-1,zslider.value+1], \n",
    "                  color='blue', linestyle='-', linewidth=1)\n",
    "    line3a = ax3.axes.plot([xslider.value-1,xslider.value+1], \n",
    "                  [yslider.value,yslider.value], \n",
    "                  color='blue', linestyle='-', linewidth=1)\n",
    "    line3b = ax3.axes.plot([xslider.value,xslider.value], \n",
    "                  [yslider.value-1,yslider.value+1], \n",
    "                  color='blue', linestyle='-', linewidth=1)\n",
    "    c1 = plt.Circle((roi[0], roi[1]), roi[3]+ROI_MARGIN, fill=False, \n",
    "                      color='blue', linewidth=3)\n",
    "    ax3.axes.add_patch(c1)\n",
    "    r1 = plt.Rectangle((roi[0]-roi[3]-ROI_MARGIN, roi[2]-roi[4]/2-ROI_MARGIN), \n",
    "                      (roi[3]+ROI_MARGIN)*2, roi[4]+2*ROI_MARGIN, fill=False, \n",
    "                      color='blue', linewidth=3)\n",
    "    ax1.axes.add_patch(r1)\n",
    "    r2 = plt.Rectangle((roi[1]-roi[3]-ROI_MARGIN, roi[2]-roi[4]/2-ROI_MARGIN), \n",
    "                      (roi[3]+ROI_MARGIN)*2, roi[4]+2*ROI_MARGIN, fill=False, \n",
    "                      color='blue', linewidth=3)\n",
    "    ax2.axes.add_patch(r2)\n",
    "except Error: \n",
    "    print 'Error!'\n",
    "\n",
    "dispResults()\n",
    "\n",
    "\n",
    "\n"
   ]
  },
  {
   "cell_type": "markdown",
   "metadata": {
    "collapsed": true
   },
   "source": [
    "# Remarks:\n",
    "\n"
   ]
  },
  {
   "cell_type": "markdown",
   "metadata": {
    "collapsed": true
   },
   "source": []
  }
 ],
 "metadata": {
  "kernelspec": {
   "display_name": "Python 2",
   "language": "python",
   "name": "python2"
  },
  "language_info": {
   "codemirror_mode": {
    "name": "ipython",
    "version": 2
   },
   "file_extension": ".py",
   "mimetype": "text/x-python",
   "name": "python",
   "nbconvert_exporter": "python",
   "pygments_lexer": "ipython2",
   "version": "2.7.12"
  }
 },
 "nbformat": 4,
 "nbformat_minor": 0
}
