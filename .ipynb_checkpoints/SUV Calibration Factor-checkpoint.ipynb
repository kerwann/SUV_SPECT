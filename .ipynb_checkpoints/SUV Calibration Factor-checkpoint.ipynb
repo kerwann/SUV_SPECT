{
 "cells": [
  {
   "cell_type": "markdown",
   "metadata": {
    "collapsed": true
   },
   "source": [
    "\\noindent __Erwann Rault__  \n",
    "_Centre Oscar Lambret (Lille)_"
   ]
  },
  {
   "cell_type": "code",
   "execution_count": 1,
   "metadata": {
    "code_folding": [
     0
    ]
   },
   "outputs": [],
   "source": [
    "# DRAW MATPLOTLIB IN NOTEBOOK #\n",
    "\n",
    "%matplotlib inline\n",
    "# %matplotlib notebook"
   ]
  },
  {
   "cell_type": "code",
   "execution_count": 2,
   "metadata": {
    "code_folding": []
   },
   "outputs": [],
   "source": [
    "# LIBRARIES #\n",
    "\n",
    "import numpy as np\n",
    "import pydicom as dcm\n",
    "import matplotlib.pyplot as plt\n",
    "import math\n",
    "import time\n",
    "import datetime\n",
    "\n",
    "from scipy import ndimage\n",
    "from ipywidgets import *\n",
    "from IPython import display\n",
    "from mpl_toolkits.axes_grid1 import make_axes_locatable\n",
    "from matplotlib import gridspec\n",
    "from os.path import basename\n",
    "\n",
    "import warnings\n",
    "warnings.filterwarnings('ignore')"
   ]
  },
  {
   "cell_type": "code",
   "execution_count": 71,
   "metadata": {
    "code_folding": []
   },
   "outputs": [],
   "source": [
    "# INPUT VARIABLES #\n",
    "\n",
    "#fileDialog = QtGui.QFileDialog()\n",
    "#filepath = fileDialog.getOpenFileName()\n",
    "filepath = 'X:/Med Nuc/etudes/SUVcalFactor_D670/I123/planar/LEHR/TMAACLIN1.col.647c.colS1.1637823.1_00000.DCM'\n",
    "\n",
    "Ainj = 41.44 #MBq\n",
    "Tinj = datetime.datetime(2016,6,23,9,41,0)\n",
    "\n",
    "Ares = 0.37 #MBq\n",
    "Tres = datetime.datetime(2016,6,23,9,44,0)\n",
    "\n",
    "img_index = 0\n",
    "scimg_index = 1\n",
    "\n",
    "# CSTES #\n",
    "nb_detectors = 2 #fausse valeur dans dicom header (reconstruction?)\n",
    "isotopeName = \"I123\"\n",
    "T1demi = 13.22 #I131:192.48 Tc:6.058 I123:13.22 hours, half life from the isotope\n",
    "margeROI = 3 #pix"
   ]
  },
  {
   "cell_type": "markdown",
   "metadata": {},
   "source": [
    "# Acquisition information"
   ]
  },
  {
   "cell_type": "code",
   "execution_count": 72,
   "metadata": {
    "code_folding": [
     0
    ]
   },
   "outputs": [],
   "source": [
    "# READS THE DICOM FILE #\n",
    "\n",
    "ds = dcm.read_file(filepath)"
   ]
  },
  {
   "cell_type": "code",
   "execution_count": 73,
   "metadata": {
    "code_folding": [
     0
    ]
   },
   "outputs": [],
   "source": [
    "# CONVERT DICOM TIME INFO TO DATETIME #\n",
    "\n",
    "def convertToDatetime(date, time):\n",
    "    year = int(int(date)/10000)\n",
    "    month = int(int(date)/100-year*100)\n",
    "    day = int(int(date)-year*10000-month*100)\n",
    "    hour = int(float(time)/10000)\n",
    "    minute = int(float(time)/100-hour*100)\n",
    "    seconds =  int(float(time)-minute*100-hour*10000)\n",
    "    return datetime.datetime(year, month, day, hour, minute, seconds)"
   ]
  },
  {
   "cell_type": "code",
   "execution_count": 74,
   "metadata": {
    "code_folding": []
   },
   "outputs": [
    {
     "name": "stdout",
     "output_type": "stream",
     "text": [
      "Patient name:  zzzI123_Cal\n",
      "Patient ID:  MIBG I 123 LEHR\n",
      "File name: TMAACLIN1.col.647c.colS1.1637823.1_00000.DCM\n",
      " \n",
      "Injected Isotope:  I123 (half life: 13.22 h)\n",
      "Injected activity:  41.44  MBq @  2016-06-23 09:41:00\n",
      "Residual activity:  0.37  MBq @  2016-06-23 09:44:00\n",
      " \n",
      "Scan date and time:  2016-06-23 11:42:12\n",
      "Nb of energy windows: 2\n",
      "Nb of detectors: 2\n",
      "Image size: 256 x 256\n",
      "Acquisition time:  300 s\n",
      "Rescale slope: 1\n",
      "Rescale intercept: 0\n",
      " \n",
      "Camera:  GE MEDICAL SYSTEMS\n",
      "         Discovery NM/CT\n",
      "Collimator name:  LEHR\n",
      "Collimator type:  PARA\n",
      "Zoom factor:  ['1.000000', '1.000000']\n"
     ]
    }
   ],
   "source": [
    "# GET RELEVANT INFORMATION FROM DICOM FILE #\n",
    "\n",
    "patient_name = ds.PatientName\n",
    "\n",
    "study_date = ds.StudyDate\n",
    "scan_time = ds[0x0008,0x0033].value\n",
    "acq_datetime = convertToDatetime(study_date,scan_time)\n",
    "\n",
    "try:\n",
    "    rescaleIntercept = ds[0x0028,0x1052].value\n",
    "    rescaleSlope = ds[0x0028,0x1053].value\n",
    "except KeyError:\n",
    "    rescaleIntercept = 0\n",
    "    rescaleSlope = 1\n",
    "    \n",
    "nb_pixel_x = ds[0x0028,0x0011].value\n",
    "nb_pixel_y = ds[0x0028,0x0010].value\n",
    "nb_energy_win = ds.NumberOfEnergyWindows\n",
    "frame_duration = int(ds[0x0018,0x1242].value/1000)\n",
    "\n",
    "print(\"Patient name: \", patient_name)\n",
    "print(\"Patient ID: \", ds[0x0020,0x0010].value)\n",
    "print(\"File name:\", basename(filepath))\n",
    "print(\" \")\n",
    "print(\"Injected Isotope: \", isotopeName, \"(half life:\", T1demi,\"h)\")\n",
    "print(\"Injected activity: \", Ainj, \" MBq @ \", Tinj)\n",
    "print(\"Residual activity: \", Ares, \" MBq @ \", Tres)\n",
    "print(\" \")\n",
    "print(\"Scan date and time: \", acq_datetime)\n",
    "print(\"Nb of energy windows: \" + str(nb_energy_win))\n",
    "print(\"Nb of detectors: \" + str(nb_detectors))\n",
    "print(\"Image size: {0} x {1}\" .\\\n",
    "                format(nb_pixel_x, nb_pixel_y))\n",
    "print(\"Acquisition time: \", frame_duration, \"s\")\n",
    "print(\"Rescale slope:\", rescaleSlope)\n",
    "print(\"Rescale intercept:\", rescaleIntercept)\n",
    "print(\" \")\n",
    "print(\"Camera: \", ds[0x0008,0x0070].value)\n",
    "print(\"        \", ds[0x0008,0x1010].value)\n",
    "print(\"Collimator name: \", ds[0x0054,0x0022][0][0x0018,0x1180].value)\n",
    "print(\"Collimator type: \", ds[0x0054,0x0022][0][0x0018,0x1181].value)\n",
    "print(\"Zoom factor: \", ds[0x0054,0x0022][0][0x0028,0x0031].value)"
   ]
  },
  {
   "cell_type": "code",
   "execution_count": 75,
   "metadata": {
    "code_folding": [
     0
    ]
   },
   "outputs": [
    {
     "name": "stdout",
     "output_type": "stream",
     "text": [
      " Energy windows found:\n",
      "   ->  ([159.0, 31.8], 0)\n",
      "   ->  ([130.0, 26.0], 1)\n"
     ]
    }
   ],
   "source": [
    "# ENERGY WINDOWS #\n",
    "\n",
    "#print ds[0x0054,0x0012][0]\n",
    "#print ds[0x0054,0x0012][1]\n",
    "\n",
    "# inline function to compute the energy mean and width of the energy windows (lambda function)\n",
    "mk_energy_dict = lambda x,y:[(x+y)/2, round(np.abs(float(x)-float(y)),2)]\n",
    "\n",
    "# creation of the dictionary\n",
    "energy_list = list()\n",
    "for el in range(nb_energy_win):\n",
    "    energy_list.append(\n",
    "        (mk_energy_dict(\n",
    "            ds[0x0054,0x0012][el][0x0054,0x0013][0][0x0054,0x0014].value, \n",
    "            ds[0x0054,0x0012][el][0x0054,0x0013][0][0x0054,0x0015].value),el)\n",
    "    )\n",
    "\n",
    "print(\" Energy windows found:\")\n",
    "for i in energy_list:    \n",
    "    print(\"   -> \", i)"
   ]
  },
  {
   "cell_type": "code",
   "execution_count": 76,
   "metadata": {
    "code_folding": [
     0
    ]
   },
   "outputs": [],
   "source": [
    "# TRIPLE ENERGY WINDOW CORRECTION #\n",
    "\n",
    "# Triple energy window correction\n",
    "def tew_corr(img0, w0, img1, w1, img2, w2):\n",
    "    return img0 - ((img1/w1+img2/w2)*w0/2)\n",
    "\n",
    "# Triple energy window correction (with only one scatter image)\n",
    "def tew_oneScatterImg(img0, w0, img1, w1):\n",
    "    return img0 - (img1/w1*w0/2)\n",
    "\n",
    "# gets rid of negative values\n",
    "def zeroify(image):\n",
    "    for n, val in enumerate(image.flat):\n",
    "        if val < 0:\n",
    "            image.flat[n] = 0\n",
    "    return image        \n",
    "\n",
    "# Main routine\n",
    "if (len(energy_list)==1):\n",
    "    m_img = ds.pixel_array[:,:].astype(np.float32)\n",
    "elif (len(energy_list)==2):\n",
    "    w0 = energy_list[1][0][1]\n",
    "    w1 = energy_list[0][0][1]\n",
    "    m_img = ds.pixel_array[img_index,:,:].astype(np.float32) * rescaleSlope + rescaleIntercept\n",
    "    m_scatterimg = ds.pixel_array[scimg_index,:,:].astype(np.float32) * rescaleSlope + rescaleIntercept\n",
    "    m_tewimg = zeroify(tew_oneScatterImg(m_img, w0, m_scatterimg, w1))\n",
    "elif (len(energy_list)==3):\n",
    "    w0 = energy_list[0][0][1]\n",
    "    w1 = energy_list[1][0][1]\n",
    "    w2 = energy_list[2][0][1]\n",
    "    m_img = ds.pixel_array[0,:,:].astype(np.float32)\n",
    "    m_scatterimg1 = ds.pixel_array[1,:,:].astype(np.float32)\n",
    "    m_scatterimg2 = ds.pixel_array[2,:,:].astype(np.float32)\n",
    "    m_tewimg = zeroify(tew_corr(m_img, w0, m_scatterimg1, w1, m_scatterimg2, w2))\n",
    "else:\n",
    "    print('Image format not supported.')\n",
    "    "
   ]
  },
  {
   "cell_type": "markdown",
   "metadata": {},
   "source": [
    "# SUV Calibration factor"
   ]
  },
  {
   "cell_type": "code",
   "execution_count": 77,
   "metadata": {
    "code_folding": [
     0
    ]
   },
   "outputs": [],
   "source": [
    "# LAYOUT DEFINITIONS #\n",
    "\n",
    "box_layout_std = Layout(display='flex',\n",
    "                    flex_flow='row wrap',\n",
    "                    justify_content='flex-start',\n",
    "                    width='100%')\n",
    "\n",
    "box_layout_right = Layout(display='flex',\n",
    "                    flex_flow='row wrap',\n",
    "                    justify_content='flex-end',\n",
    "                    border='solid 0.5px #EEE',\n",
    "                    width='100%')\n"
   ]
  },
  {
   "cell_type": "code",
   "execution_count": 78,
   "metadata": {
    "code_folding": [
     0
    ]
   },
   "outputs": [],
   "source": [
    "# FINDS THE SUV PHANTOM IN THE IMAGE #\n",
    "\n",
    "# function to find the phantom dimension and center in the image\n",
    "def findPhantom(img, dimx, dimy):\n",
    "    com = ndimage.measurements.center_of_mass(img)\n",
    "    comx = int(com[0])\n",
    "    maxx = ndimage.measurements.maximum(img[comx,:])\n",
    "    x1 = 0\n",
    "    while (img[comx,x1]<maxx/5):\n",
    "        x1 = x1+1\n",
    "    x2 = dimx-1\n",
    "    while (img[comx,x2]<maxx/5):\n",
    "        x2 = x2-1\n",
    "    x1=x1-1\n",
    "    x2=x2+1\n",
    "    comy = int(com[1])\n",
    "    maxy = ndimage.measurements.maximum(img[:,comy])\n",
    "    y1 = 0\n",
    "    while (img[y1,comy]<maxy/5):\n",
    "        y1 = y1+1\n",
    "    y2 = dimy-1\n",
    "    while (img[y2,comy]<maxy/5):\n",
    "        y2 = y2-1\n",
    "    y1=y1-1\n",
    "    y2=y2+1\n",
    "    centerx = int(x1+(x2-x1)/2)\n",
    "    centery = int(y1+(y2-y1)/2)\n",
    "    if ((y2-y1)>(x2-1)):\n",
    "        radius =(y2-y1)/2\n",
    "    else:\n",
    "        radius = (x2-x1)/2\n",
    "    return [centerx, centery, radius]\n"
   ]
  },
  {
   "cell_type": "code",
   "execution_count": 79,
   "metadata": {
    "code_folding": [
     0
    ]
   },
   "outputs": [],
   "source": [
    "# FUNCTION TO CALC THE NB OF COUNTS IN THE IMAGE INSIDE THE ROI #\n",
    "\n",
    "def calc_nbOfCounts(img, dimx, dimy, centerx, centery, r):\n",
    "    nbcnts = 0\n",
    "    for j in range(0, dimy):\n",
    "        for i in range(0, dimx):\n",
    "            if (math.sqrt((i-centerx)*(i-centerx)+(j-centery)*(j-centery))<=r):\n",
    "                nbcnts = nbcnts + img[j,i]\n",
    "    return nbcnts"
   ]
  },
  {
   "cell_type": "code",
   "execution_count": 80,
   "metadata": {
    "code_folding": [
     0
    ]
   },
   "outputs": [],
   "source": [
    "# SUV FACTOR CALCULATION #\n",
    "\n",
    "def calcSUVfactor(nbcnts, a0, t0, ares, tres, tscan, duration, T):\n",
    "    t = (tscan - t0).total_seconds()/3600.0\n",
    "    A = a0 * math.exp(-t*math.log(2)/T)\n",
    "    t = (tscan - tres).total_seconds()/3600.0\n",
    "    B = ares * math.exp(-t*math.log(2)/T)\n",
    "    s = float(nbcnts)/float(A-B)/float(duration)\n",
    "    #print 'Activity in Petri box during acquisition:', str(round(A-B,2)), 'MBq'\n",
    "    return s"
   ]
  },
  {
   "cell_type": "code",
   "execution_count": 81,
   "metadata": {
    "code_folding": [
     0
    ]
   },
   "outputs": [
    {
     "data": {
      "application/vnd.jupyter.widget-view+json": {
       "model_id": "7916fd5c695f4f7da94ad714b085f507",
       "version_major": 2,
       "version_minor": 0
      },
      "text/plain": [
       "Box(children=(Label(value='Visualization window:'), FloatSlider(value=0.0, description='min', max=1320.0, step…"
      ]
     },
     "metadata": {},
     "output_type": "display_data"
    },
    {
     "data": {
      "application/vnd.jupyter.widget-view+json": {
       "model_id": "4c3cb1ad876b410b9fa2e5a39def358b",
       "version_major": 2,
       "version_minor": 0
      },
      "text/plain": [
       "Box(children=(Button(description='Refresh!', style=ButtonStyle()),), layout=Layout(border='solid 0.5px #EEE', …"
      ]
     },
     "metadata": {},
     "output_type": "display_data"
    },
    {
     "name": "stdout",
     "output_type": "stream",
     "text": [
      "Non corrected image:\n",
      "  - Nb of counts in the image: 1211606\n",
      "  - Delay between injection and scan:  2.02  hours\n",
      "  - Calculated SUV factor:  109.33  cps/MBq\n",
      "                            242.7  cpm/uCi\n",
      " \n",
      "Triple Energy Window corrected Image:\n",
      "  - Nb of counts in the image: 1083911\n",
      "  - Delay between injection and scan:  2.02  hours\n",
      "  - Calculated SUV factor:  97.8  cps/MBq\n",
      "                            217.12  cpm/uCi\n"
     ]
    },
    {
     "data": {
      "image/png": "[encoded data removed]",
      "text/plain": [
       "<Figure size 1296x648 with 2 Axes>"
      ]
     },
     "metadata": {
      "needs_background": "light"
     },
     "output_type": "display_data"
    }
   ],
   "source": [
    "# MAIN INTERFACE #\n",
    "\n",
    "\n",
    "# Displays SUV calculation results\n",
    "def dispResults():\n",
    "    if (len(energy_list)==1):\n",
    "        nbcnts = calc_nbOfCounts(m_img, nb_pixel_x, nb_pixel_y, \n",
    "                             centerxslider.value, centeryslider.value, radiusslider.value)\n",
    "        suvFactor = calcSUVfactor(nbcnts, Ainj, Tinj, Ares, Tres, acq_datetime, \n",
    "                              frame_duration, T1demi)\n",
    "        print('Non corrected image:')\n",
    "        print('  - Nb of counts in the image: ' + str(int(nbcnts)))\n",
    "        print('  - Delay between injection and scan: ', round((acq_datetime-Tinj).total_seconds()/3600.0, 2), ' hours')\n",
    "        print('  - Calculated SUV factor: ', str(round(suvFactor,2)), ' cps/MBq')\n",
    "        print('                           ', str(round(suvFactor*2.22,2)), ' cpm/uCi')\n",
    "    else:\n",
    "        nbcnts = calc_nbOfCounts(m_img, nb_pixel_x, nb_pixel_y, \n",
    "                             centerxslider.value, centeryslider.value, radiusslider.value)\n",
    "        nbcntsTEW = calc_nbOfCounts(m_tewimg, nb_pixel_x, nb_pixel_y, \n",
    "                             centerxslider.value, centeryslider.value, radiusslider.value)\n",
    "        suvFactor = calcSUVfactor(nbcnts, Ainj, Tinj, Ares, Tres, acq_datetime, \n",
    "                              frame_duration, T1demi)\n",
    "        suvFactorTEW = calcSUVfactor(nbcntsTEW, Ainj, Tinj, Ares, Tres, acq_datetime, \n",
    "                              frame_duration, T1demi)\n",
    "        print('Non corrected image:')\n",
    "        print('  - Nb of counts in the image: ' + str(int(nbcnts)))\n",
    "        print('  - Delay between injection and scan: ', round((acq_datetime-Tinj).total_seconds()/3600.0, 2), ' hours')\n",
    "        print('  - Calculated SUV factor: ', str(round(suvFactor,2)), ' cps/MBq')\n",
    "        print('                           ', str(round(suvFactor*2.22,2)), ' cpm/uCi')\n",
    "        print(' ')\n",
    "        print('Triple Energy Window corrected Image:')\n",
    "        print('  - Nb of counts in the image: ' + str(int(nbcntsTEW)))\n",
    "        print('  - Delay between injection and scan: ', round((acq_datetime-Tinj).total_seconds()/3600.0, 2), ' hours')\n",
    "        print('  - Calculated SUV factor: ', str(round(suvFactorTEW,2)), ' cps/MBq')\n",
    "        print('                           ', str(round(suvFactorTEW*2.22,2)), ' cpm/uCi')\n",
    "\n",
    "        \n",
    "    # function to plot and update the images\n",
    "def updatePlot(b):\n",
    "    minv = minslider.value\n",
    "    maxv = maxslider.value\n",
    "    if (minv>maxv):\n",
    "        print(\"Erreur: min > max\")\n",
    "    else:\n",
    "        pltarray.imshow(m_img, cmap=\"hot\", vmin = minv, vmax = maxv)\n",
    "        c1.center = (centerxslider.value,centeryslider.value)\n",
    "        c1.radius = radiusslider.value\n",
    "        display.clear_output(wait=True)\n",
    "        display.display(f)\n",
    "        dispResults()\n",
    "\n",
    "# Plot size\n",
    "plt.rcParams['figure.figsize'] = (18,9)\n",
    "\n",
    "# min, max of main image:\n",
    "_min, _max = np.amin(m_img), np.amax(m_img)\n",
    "\n",
    "# 2 sliders to change visualization:\n",
    "minslider  = FloatSlider(value=_min, min=_min, max=_max, step=(_max-_min)/100, description='min', width='40%')\n",
    "maxslider  = FloatSlider(value=_max, min=_min, max=_max, step=(_max-_min)/100, description='max', width='40%')\n",
    "\n",
    "centerxslider = IntSlider(value=int(nb_pixel_x/2), min=0, max=nb_pixel_x, step=1, description=\"centerx\",width='40%')\n",
    "centeryslider = IntSlider(value=int(nb_pixel_y/2), min=0, max=nb_pixel_y, step=1, description=\"centery\",width='40%')\n",
    "radiusslider = IntSlider(value=2, min=0, max=int(nb_pixel_y/2), step=1, description=\"radius\",width='40%')\n",
    "\n",
    "refresh_button = Button(description=\"Refresh!\", width='40%')\n",
    "refresh_button.on_click(updatePlot)\n",
    "\n",
    "items1 = [\n",
    "    Label(value=\"Visualization window:\", width='90%'),\n",
    "    minslider,\n",
    "    maxslider,\n",
    "    Label(value=\". \", width='90%'),\n",
    "    Label(value=\"Region Of Interest:\", width='90%'),\n",
    "    centerxslider,\n",
    "    centeryslider,\n",
    "    radiusslider,\n",
    "    Label(value=\". \", width='90%'),\n",
    " ]\n",
    "items2 = [\n",
    "    refresh_button,\n",
    " ]\n",
    "\n",
    "box1 = Box(children=items1, layout=box_layout_std)\n",
    "box2 = Box(children=items2, layout=box_layout_right)\n",
    "display.display(box1)\n",
    "display.display(box2)\n",
    "\n",
    "# Plots the images:\n",
    "f, pltarray = plt.subplots(1,1)\n",
    "\n",
    "im1 = pltarray.imshow(m_img, cmap=\"hot\", vmin = _min, vmax = _max) #available cmaps: hot, gray, bone\n",
    "pltarray.set_title('Photopeak')\n",
    "pltarray.axes.get_xaxis().set_visible(False)\n",
    "pltarray.axes.get_yaxis().set_visible(False)\n",
    "\n",
    "roi = findPhantom(m_img, nb_pixel_x, nb_pixel_y)\n",
    "centerxslider.value = roi[0]\n",
    "centeryslider.value = roi[1]\n",
    "radiusslider.value = roi[2] + margeROI\n",
    "\n",
    "try:\n",
    "    divider1 = make_axes_locatable(pltarray)\n",
    "    cax1 = divider1.append_axes(\"right\", size=\"5%\", pad=0.1)\n",
    "    plt.colorbar(im1, cax=cax1)\n",
    "\n",
    "    c1 = plt.Circle((centerxslider.value, centeryslider.value), radiusslider.value, fill=False, color='blue', linewidth=3)\n",
    "    pltarray.axes.add_patch(c1)\n",
    "except:\n",
    "    print('Erreur!')\n",
    "\n",
    "dispResults()"
   ]
  },
  {
   "cell_type": "markdown",
   "metadata": {
    "collapsed": true
   },
   "source": [
    "\n",
    "# Remarks:"
   ]
  },
  {
   "cell_type": "markdown",
   "metadata": {},
   "source": []
  }
 ],
 "metadata": {
  "kernelspec": {
   "display_name": "Python 3",
   "language": "python",
   "name": "python3"
  },
  "language_info": {
   "codemirror_mode": {
    "name": "ipython",
    "version": 3
   },
   "file_extension": ".py",
   "mimetype": "text/x-python",
   "name": "python",
   "nbconvert_exporter": "python",
   "pygments_lexer": "ipython3",
   "version": "3.7.1"
  }
 },
 "nbformat": 4,
 "nbformat_minor": 1
}
