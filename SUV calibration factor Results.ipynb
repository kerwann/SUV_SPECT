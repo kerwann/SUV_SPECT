{
 "cells": [
  {
   "cell_type": "markdown",
   "metadata": {},
   "source": [
    "# Résultats SUV Calibration"
   ]
  },
  {
   "cell_type": "code",
   "execution_count": 1,
   "metadata": {
    "collapsed": false
   },
   "outputs": [],
   "source": [
    "a=0"
   ]
  },
  {
   "cell_type": "markdown",
   "metadata": {},
   "source": [
    "## Boites de Pétri\n",
    "\n",
    "Sensibilités mesurées avec une boite de Pétri posée directement sur le collimateur de la tête considérée. Elle est affichée en cps/MBq. \n",
    "\n",
    "### Tc99m\n",
    "\n",
    "|Collimateur  | Détecteur 1 (no SC) |  Détecteur 1 (SC) | Détecteur 2 (no SC) |  Détecteur 2 (SC)| \n",
    "|:------------|:--------------:|:------------:|:--------------:|:------------:|\n",
    "|LEHR         | 85.02          | --           | 86.47          | --           |\n",
    "   \n",
    "   \n",
    "On peut utiliser le facteur de calibration suivant pour les images (moyenne des deux têtes): 85.75\n",
    "\n",
    "### I123\n",
    "\n",
    "|Collimateur  | Détecteur 1 (no SC) |  Détecteur 1 (SC) | Détecteur 2 (no SC) |  Détecteur 2 (SC)| \n",
    "|:------------|:--------------:|:------------:|:--------------:|:------------:|\n",
    "|LEHR         | 128.24         | 114.08       | 125.45         | 111.77       |\n",
    "|MEGP         | 121.61         | 114.31       | 119.84         | 112.80       |\n",
    "   \n",
    "   \n",
    "Si on utilise la correction de diffusion pour reconstruire les images, on peut utiliser les facteurs de calibration suivants pour les images (moyenne des deux têtes): \n",
    "* pour le collimateur LEHR: 112.93\n",
    "* pour le collimateur MEGP: 113.56\n",
    "\n",
    " \n",
    "### I131\n",
    "\n",
    "|Collimateur  | Détecteur 1 (no SC) |  Détecteur 1 (SC) | Détecteur 2 (no SC) |  Détecteur 2 (SC)| \n",
    "|:------------|:--------------:|:------------:|:--------------:|:------------:|\n",
    "|MEGP         | 150.07         | 129.62       | 147.33         | 126.99       |\n",
    "|HEGP         | 69.56          | 60.73        | 66.40          | 57.85        |\n",
    "   \n",
    "   \n",
    "Si on utilise la correction de diffusion pour reconstruire les images, on peut utiliser les facteurs de calibration suivants pour les images (moyenne des deux têtes): \n",
    "* pour le collimateur MEGP: 128.31\n",
    "* pour le collimateur HEGP: 59.29\n",
    "\n",
    "D'autres tests ont été réalisés sur le détecteur 1:\n",
    "\n",
    "| Acquisition   | Détecteur 1 (no SC) |  Détecteur 1 (SC) |\n",
    "|:--------------|:--------------:|:------------:|\n",
    "| 128x128       | 150.07         | 129.62       |\n",
    "| 256x256       | 139.40 (-7%)   | 121.07 (-7%) |\n",
    "| 128x128 zoom2 | 142.22 (-5%)   | 123.24 (-5%) |\n",
    "\n",
    "_**Remarque**: la sensibilité mesurée en planaire avec le fantôme (sur une projection du fantome) est évaluée aux alentours de 49.5 cps/MBq. Cela est très certainement dû à l'atténuation dans le fantôme._\n"
   ]
  },
  {
   "cell_type": "markdown",
   "metadata": {},
   "source": [
    "## Fantome SUV\n",
    "\n",
    "### Tc99m\n",
    "\n",
    "| Collimateur  |No Corrections  | SC (no filt) | ATT (no filt) |SC ATT (no filt) |std ATT (Butt.)  |SC ATT (Butt.) |\n",
    "| :------------|:--------------:|:------------:|:-------------:|:-------------:|:----------------:|:--------------:|\n",
    "| LEHR         | --             | --           | --            | --            | 160.97           | --             |\n",
    "\n",
    "\n",
    "\n",
    "### I123\n",
    "\n",
    "Sensibilités mesurées avec un fantôme SUV PET (cps/MBq). Les mesures sont faites avec le protocole image des patients MIBG. Le calcul de la sensibilité est fait sur les images reconstruites 3D.\n",
    "\n",
    "| Collimateur  |No Corrections  | SC (no filt) | ATT (no filt) |SC ATT (no filt) |std ATT (Butt.)  |SC ATT (Butt.) |\n",
    "| :------------|:--------------:|:------------:|:-------------:|:-------------:|:----------------:|:--------------:|\n",
    "| LEHR         | 24.61          | --           | 61.17         | --            | 61.83            | 38.90          |\n",
    "| MEGP         | --             | --           | --            | --               | --             |\n",
    "\n",
    "\n",
    "\n",
    "_**Remarque**: La sensibilité ne peut pas et ne doit pas être mesurée de cette façon pour trouver le facteur de calibration. Ce facteur est dépendant du patient/fantome._"
   ]
  },
  {
   "cell_type": "markdown",
   "metadata": {
    "collapsed": true
   },
   "source": [
    "## Test Seringue (Tc99m)\n",
    "\n",
    "\n",
    "### Planaire\n",
    "\n",
    "| Collimateur  || Détecteur 1 | Détecteur 1 (SC)  || Détecteur 2 | Détecteur 2 (SC) |\n",
    "| :------------||:-----------:|:-----------------:||:-----------:|:----------------:|\n",
    "| LEHR         || 74.60       | 73.71             || 80.80       | 80.17            |\n",
    "\n",
    "\n",
    "### Tomographique\n",
    "\n",
    "| Collimateur  | No Correction | SC RR             |\n",
    "| :------------|:-------------:|:-----------------:|\n",
    "| LEHR         | 45.17         | 63.91             |\n",
    "\n",
    "\n"
   ]
  },
  {
   "cell_type": "markdown",
   "metadata": {
    "collapsed": true
   },
   "source": [
    "## Réflexions\n",
    "\n",
    "Il est difficile de comprendre comment fonctionne la reconstruction (boite noire), si la sensibilité en 3D doit être prise en compte en fonction du nombre de tetes pour une rotation complète ou non. Par conséquent, il serait intéressant de faire une acquisition 3D pour une seringue remplie de Tc99m et de voir si les résultats sont cohérents dans des conditions sans atténuation et diffusion (ou presque...)\n",
    "\n",
    "\n"
   ]
  },
  {
   "cell_type": "code",
   "execution_count": null,
   "metadata": {
    "collapsed": true
   },
   "outputs": [],
   "source": []
  }
 ],
 "metadata": {
  "kernelspec": {
   "display_name": "Python 2",
   "language": "python",
   "name": "python2"
  },
  "language_info": {
   "codemirror_mode": {
    "name": "ipython",
    "version": 2
   },
   "file_extension": ".py",
   "mimetype": "text/x-python",
   "name": "python",
   "nbconvert_exporter": "python",
   "pygments_lexer": "ipython2",
   "version": "2.7.12"
  }
 },
 "nbformat": 4,
 "nbformat_minor": 1
}
